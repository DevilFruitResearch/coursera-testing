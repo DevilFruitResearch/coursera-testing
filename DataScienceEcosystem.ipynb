{
 "cells": [
  {
   "cell_type": "markdown",
   "id": "9eb0ce03-f763-438a-929e-2840dfe96dc3",
   "metadata": {},
   "source": [
    " # Data Science Tools and Ecosystem"
   ]
  },
  {
   "cell_type": "markdown",
   "id": "931f73b2-340b-4cca-aef4-de28a4dd6e25",
   "metadata": {},
   "source": [
    "In this notebook, Data Science Tools and Ecosystem are summarized."
   ]
  },
  {
   "cell_type": "markdown",
   "id": "16b816fb-7904-432e-af26-23848b3be1c4",
   "metadata": {},
   "source": [
    "**Objectives:**\n",
    "\n",
    "- List popular languages for Data Science.\n",
    "- Identify common open-source tools used in Data Science.\n",
    "- Explain key libraries used for data manipulation and analysis.\n",
    "- Demonstrate basic arithmetic expressions in Python.\n",
    "- Create and render Markdown cells in Jupyter Notebook."
   ]
  },
  {
   "cell_type": "markdown",
   "id": "dc6d63ad-7d44-4a1b-8820-4340421f6a4d",
   "metadata": {},
   "source": [
    "## Author: Robby Floyd"
   ]
  },
  {
   "cell_type": "markdown",
   "id": "31fd9f53-ab43-4cf0-a6ae-f122d08c646c",
   "metadata": {},
   "source": [
    "Some of the popular languages that Data Scientists use are:\n",
    "1. Python\n",
    "2. R\n",
    "3. SQL"
   ]
  },
  {
   "cell_type": "markdown",
   "id": "66cd9513-dcd7-4253-b5ea-9105268f7749",
   "metadata": {},
   "source": [
    "Some of the commonly used libraries used by Data Scientists include:\n",
    "1. Pandas\n",
    "2. NumPy\n",
    "3. Scikit-learn\n",
    "   "
   ]
  },
  {
   "cell_type": "markdown",
   "id": "42827ae2-fc51-4aa0-820f-c184cd034d14",
   "metadata": {},
   "source": [
    "| Data Science Tools |\r\n",
    "|------------------|\r\n",
    "Jupyter Notebook 1  |\r",
    "RStudio   \n",
    "| VS Code  |   |\r\n"
   ]
  },
  {
   "cell_type": "markdown",
   "id": "905ef9e9-80be-4c61-8142-f6325e2c3bb0",
   "metadata": {},
   "source": [
    "### Arithmetic Expression Examples\n",
    "\n",
    "### Below are a few examples of evaluating arithmetic expressions in Python.\n",
    "\n",
    "1. **Addition**: `2 + 3 = 5`  \n",
    "2. **Subtraction**: `7 - 4 = 3`   3 = 8`\r\n"
   ]
  },
  {
   "cell_type": "code",
   "execution_count": 3,
   "id": "a7901c22-b243-411e-a5a5-d9f583fc22e1",
   "metadata": {},
   "outputs": [
    {
     "data": {
      "text/plain": [
       "17"
      ]
     },
     "execution_count": 3,
     "metadata": {},
     "output_type": "execute_result"
    }
   ],
   "source": [
    "# This a simple arithmetic expression to mutiply then add integers.\n",
    "(3 * 4) + 5 "
   ]
  },
  {
   "cell_type": "code",
   "execution_count": 4,
   "id": "2421b391-9fe4-4283-aef9-728258754d08",
   "metadata": {},
   "outputs": [
    {
     "data": {
      "text/plain": [
       "3.3333333333333335"
      ]
     },
     "execution_count": 4,
     "metadata": {},
     "output_type": "execute_result"
    }
   ],
   "source": [
    "# This will convert 200 minutes to hours by dividing by 60\n",
    "200/60"
   ]
  },
  {
   "cell_type": "code",
   "execution_count": null,
   "id": "0a45a953-8951-41d6-9bd4-c854958839ac",
   "metadata": {},
   "outputs": [],
   "source": []
  }
 ],
 "metadata": {
  "kernelspec": {
   "display_name": "Python 3 (ipykernel)",
   "language": "python",
   "name": "python3"
  },
  "language_info": {
   "codemirror_mode": {
    "name": "ipython",
    "version": 3
   },
   "file_extension": ".py",
   "mimetype": "text/x-python",
   "name": "python",
   "nbconvert_exporter": "python",
   "pygments_lexer": "ipython3",
   "version": "3.11.7"
  }
 },
 "nbformat": 4,
 "nbformat_minor": 5
}
